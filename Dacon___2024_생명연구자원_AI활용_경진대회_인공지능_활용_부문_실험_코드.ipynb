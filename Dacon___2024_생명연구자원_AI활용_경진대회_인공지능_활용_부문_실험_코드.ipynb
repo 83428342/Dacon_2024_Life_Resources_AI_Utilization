{
  "cells": [
    {
      "cell_type": "code",
      "source": [
        "# 라이브러리 호출\n",
        "import pandas as pd\n",
        "import numpy as np\n",
        "import torch\n",
        "import torch.nn as nn\n",
        "import torch.optim as optim\n",
        "from torch.utils.data import DataLoader, TensorDataset\n",
        "from sklearn.preprocessing import LabelEncoder, MaxAbsScaler\n",
        "from sklearn.model_selection import train_test_split\n",
        "from sklearn.utils.class_weight import compute_class_weight\n",
        "from sklearn.metrics import confusion_matrix, classification_report\n",
        "from imblearn.over_sampling import ADASYN\n",
        "import seaborn as sns\n",
        "import matplotlib.pyplot as plt\n",
        "from tqdm import tqdm"
      ],
      "metadata": {
        "id": "0pLJueSu2KKG"
      },
      "execution_count": null,
      "outputs": []
    },
    {
      "cell_type": "code",
      "source": [
        "# 데이터 로드\n",
        "train = pd.read_csv(\"/content/drive/MyDrive/Data/train.csv\")\n",
        "test = pd.read_csv(\"/content/drive/MyDrive/Data/test.csv\")"
      ],
      "metadata": {
        "id": "wMItChAX2KHr"
      },
      "execution_count": null,
      "outputs": []
    },
    {
      "cell_type": "code",
      "source": [
        "# 라벨 인코딩 (SUBCLASS)\n",
        "y_subclass = train['SUBCLASS']\n",
        "\n",
        "# 입력 데이터 준비\n",
        "X = train.drop(columns=['SUBCLASS', 'ID'])\n",
        "test_X = test.drop(columns=['ID'])\n",
        "\n",
        "# 변이 정보를 이진화 및 추가 특성 생성 (변이 빈도 반영)\n",
        "def mutation_features(df):\n",
        "    binary_features = df.applymap(lambda x: 0 if x == 'WT' else 1)\n",
        "    mutation_count = df.applymap(lambda x: 0 if x == 'WT' else 1).sum(axis=1)  # 변이 빈도 특성\n",
        "    df_binary = pd.concat([binary_features, mutation_count.rename(\"mutation_count\")], axis=1)\n",
        "    return df_binary\n",
        "\n",
        "X_binary = mutation_features(X)\n",
        "test_X_binary = mutation_features(test_X)"
      ],
      "metadata": {
        "id": "c6fGtqAv2KFO"
      },
      "execution_count": null,
      "outputs": []
    },
    {
      "cell_type": "code",
      "source": [
        "# 데이터 분리 (훈련/검증 세트)\n",
        "X_train, X_val, y_train, y_val = train_test_split(X_binary, y_subclass, test_size=0.2, random_state=42, stratify=y_subclass)"
      ],
      "metadata": {
        "id": "UVNQjvhU2KC0"
      },
      "execution_count": null,
      "outputs": []
    },
    {
      "cell_type": "code",
      "source": [
        "# ADASYN으로 오버샘플링 (혼동 클래스 보강)\n",
        "adasyn = ADASYN(sampling_strategy='minority', random_state=42)\n",
        "X_train_resampled, y_train_resampled = adasyn.fit_resample(X_train, y_train)"
      ],
      "metadata": {
        "id": "gcsD9QrS2Rpl"
      },
      "execution_count": null,
      "outputs": []
    },
    {
      "cell_type": "code",
      "source": [
        "# 클래스 라벨 인코딩 (숫자형으로 변환)\n",
        "le = LabelEncoder()\n",
        "y_train_encoded = le.fit_transform(y_train_resampled)\n",
        "y_val_encoded = le.transform(y_val)\n",
        "num_classes = len(le.classes_)\n",
        "\n",
        "# 텐서로 변환\n",
        "X_train_tensor = torch.tensor(X_train_resampled.values, dtype=torch.float32)\n",
        "y_train_tensor = torch.tensor(y_train_encoded, dtype=torch.long)\n",
        "X_val_tensor = torch.tensor(X_val.values, dtype=torch.float32)\n",
        "y_val_tensor = torch.tensor(y_val_encoded, dtype=torch.long)\n",
        "\n",
        "# DataLoader 생성\n",
        "train_dataset = TensorDataset(X_train_tensor, y_train_tensor)\n",
        "val_dataset = TensorDataset(X_val_tensor, y_val_tensor)\n",
        "train_loader = DataLoader(train_dataset, batch_size=64, shuffle=True)\n",
        "val_loader = DataLoader(val_dataset, batch_size=64, shuffle=False)"
      ],
      "metadata": {
        "id": "ad-S9CH32RxT"
      },
      "execution_count": null,
      "outputs": []
    },
    {
      "cell_type": "code",
      "source": [
        "# 혼동 클래스별 가중치 적용\n",
        "custom_class_weights = {\n",
        "    'GBMLGG': 1.5,  # GBMLGG와 OV 간의 혼동 문제\n",
        "    'OV': 1.5,\n",
        "    'SARC': 1.5,    # SARC와 SKCM 간의 혼동 문제\n",
        "    'SKCM': 1.5,\n",
        "}\n",
        "\n",
        "# 기존의 클래스 가중치에 혼동되는 클래스에 대한 추가 가중치 적용\n",
        "unique_classes = le.classes_\n",
        "final_class_weights = compute_class_weight('balanced', classes=np.unique(y_train_encoded), y=y_train_encoded)\n",
        "\n",
        "# 클래스별로 가중치 수정\n",
        "for idx, class_label in enumerate(unique_classes):\n",
        "    if class_label in custom_class_weights:\n",
        "        final_class_weights[idx] *= custom_class_weights[class_label]\n",
        "\n",
        "# PyTorch용 텐서로 변환\n",
        "class_weights = torch.tensor(final_class_weights, dtype=torch.float32)"
      ],
      "metadata": {
        "id": "vhBQygOz2Rzz"
      },
      "execution_count": null,
      "outputs": []
    },
    {
      "cell_type": "code",
      "source": [
        "# 모델 정의\n",
        "class GeneMutationNet(nn.Module):\n",
        "    def __init__(self, input_size, num_classes):\n",
        "        super(GeneMutationNet, self).__init__()\n",
        "        self.layers = nn.Sequential(\n",
        "            nn.Linear(input_size, 2048),\n",
        "            nn.BatchNorm1d(2048),\n",
        "            nn.ReLU(),\n",
        "            nn.Dropout(0.4),\n",
        "\n",
        "            nn.Linear(2048, 1024),\n",
        "            nn.BatchNorm1d(1024),\n",
        "            nn.ReLU(),\n",
        "            nn.Dropout(0.4),\n",
        "\n",
        "            nn.Linear(1024, 512),\n",
        "            nn.BatchNorm1d(512),\n",
        "            nn.ReLU(),\n",
        "            nn.Dropout(0.4),\n",
        "\n",
        "            nn.Linear(512, 256),\n",
        "            nn.BatchNorm1d(256),\n",
        "            nn.ReLU(),\n",
        "            nn.Dropout(0.4),\n",
        "\n",
        "            nn.Linear(256, 128),\n",
        "            nn.BatchNorm1d(128),\n",
        "            nn.ReLU(),\n",
        "            nn.Dropout(0.4),\n",
        "\n",
        "            nn.Linear(128, 64),\n",
        "            nn.BatchNorm1d(64),\n",
        "            nn.ReLU(),\n",
        "            nn.Dropout(0.3),\n",
        "\n",
        "            nn.Linear(64, num_classes)\n",
        "        )\n",
        "\n",
        "    def forward(self, x):\n",
        "        return self.layers(x)"
      ],
      "metadata": {
        "id": "iLNT9c4l2R1-"
      },
      "execution_count": null,
      "outputs": []
    },
    {
      "cell_type": "code",
      "source": [
        "# 모델 초기화\n",
        "input_size = X_train_tensor.shape[1]\n",
        "model = GeneMutationNet(input_size, num_classes)\n",
        "\n",
        "# 옵티마이저 및 손실 함수 정의 (클래스 가중치 적용)\n",
        "criterion = nn.CrossEntropyLoss(weight=class_weights)\n",
        "optimizer = optim.Adam(model.parameters(), lr=0.0001, weight_decay=1e-5)\n",
        "\n",
        "# 모델 평가 함수\n",
        "def evaluate_model(model, val_loader, criterion):\n",
        "    model.eval()\n",
        "    val_loss = 0.0\n",
        "    correct = 0\n",
        "    total = 0\n",
        "\n",
        "    with torch.no_grad():\n",
        "        for inputs, labels in val_loader:\n",
        "            outputs = model(inputs)\n",
        "            loss = criterion(outputs, labels)\n",
        "            val_loss += loss.item()\n",
        "\n",
        "            _, predicted = torch.max(outputs, 1)\n",
        "            total += labels.size(0)\n",
        "            correct += (predicted == labels).sum().item()\n",
        "\n",
        "    avg_val_loss = val_loss / len(val_loader)\n",
        "    accuracy = correct / total\n",
        "    return avg_val_loss, accuracy"
      ],
      "metadata": {
        "id": "q7hPKRrw2R4H"
      },
      "execution_count": null,
      "outputs": []
    },
    {
      "cell_type": "code",
      "source": [
        "# Confusion Matrix 및 성능 지표 출력 함수\n",
        "def evaluate_with_metrics(model, val_loader):\n",
        "    model.eval()\n",
        "    all_labels = []\n",
        "    all_predictions = []\n",
        "\n",
        "    with torch.no_grad():\n",
        "        for inputs, labels in val_loader:\n",
        "            outputs = model(inputs)\n",
        "            _, predicted = torch.max(outputs, 1)\n",
        "            all_labels.extend(labels.cpu().numpy())\n",
        "            all_predictions.extend(predicted.cpu().numpy())\n",
        "\n",
        "    cm = confusion_matrix(all_labels, all_predictions)\n",
        "    print(\"Confusion Matrix:\")\n",
        "    print(cm)\n",
        "\n",
        "    plt.figure(figsize=(12, 10))\n",
        "    sns.heatmap(cm, annot=True, fmt='d', cmap='Blues', xticklabels=le.classes_, yticklabels=le.classes_)\n",
        "    plt.xlabel('Predicted')\n",
        "    plt.ylabel('True')\n",
        "    plt.title('Confusion Matrix')\n",
        "    plt.show()\n",
        "\n",
        "    print(\"Classification Report:\")\n",
        "    print(classification_report(all_labels, all_predictions, target_names=le.classes_))"
      ],
      "metadata": {
        "id": "nad7xKsR2i2m"
      },
      "execution_count": null,
      "outputs": []
    },
    {
      "cell_type": "code",
      "source": [
        "# 모델 학습 함수\n",
        "def train_model(model, train_loader, val_loader, criterion, optimizer, epochs=50):\n",
        "    best_val_loss = float('inf')\n",
        "    patience = 5\n",
        "    trigger_times = 0\n",
        "\n",
        "    for epoch in range(epochs):\n",
        "        model.train()\n",
        "        running_loss = 0.0\n",
        "\n",
        "        progress_bar = tqdm(train_loader, desc=f'Epoch {epoch+1}/{epochs}', leave=False)\n",
        "\n",
        "        for i, (inputs, labels) in enumerate(progress_bar):\n",
        "            optimizer.zero_grad()\n",
        "            outputs = model(inputs)\n",
        "            loss = criterion(outputs, labels)\n",
        "            loss.backward()\n",
        "            optimizer.step()\n",
        "            running_loss += loss.item()\n",
        "            progress_bar.set_postfix(loss=loss.item())\n",
        "\n",
        "        avg_train_loss = running_loss / len(train_loader)\n",
        "        print(f'Epoch {epoch+1}/{epochs}, Train Loss: {avg_train_loss:.4f}')\n",
        "\n",
        "        val_loss, val_accuracy = evaluate_model(model, val_loader, criterion)\n",
        "        print(f'Epoch {epoch+1}/{epochs}, Val Loss: {val_loss:.4f}, Val Accuracy: {val_accuracy:.4f}')\n",
        "\n",
        "        if val_loss < best_val_loss:\n",
        "            best_val_loss = val_loss\n",
        "            trigger_times = 0\n",
        "            torch.save(model.state_dict(), '/content/drive/MyDrive/best_model.pth')\n",
        "        else:\n",
        "            trigger_times += 1\n",
        "            if trigger_times >= patience:\n",
        "                print('Early stopping!')\n",
        "                break\n",
        "\n",
        "    evaluate_with_metrics(model, val_loader)\n",
        "\n",
        "# 모델 학습\n",
        "train_model(model, train_loader, val_loader, criterion, optimizer, epochs=50)\n"
      ],
      "metadata": {
        "id": "waasoJrU2i44"
      },
      "execution_count": null,
      "outputs": []
    },
    {
      "cell_type": "code",
      "source": [
        "# 테스트 데이터에 대한 예측 수행\n",
        "test_tensor = torch.tensor(test_X_binary.values, dtype=torch.float32)\n",
        "\n",
        "# 최적 모델 로드 및 예측\n",
        "model.load_state_dict(torch.load('/content/drive/MyDrive/best_model.pth'))\n",
        "model.eval()\n",
        "\n",
        "with torch.no_grad():\n",
        "    test_outputs = model(test_tensor)\n",
        "    _, test_predictions = torch.max(test_outputs, 1)\n",
        "\n",
        "# 예측 결과를 원래 라벨로 변환\n",
        "predicted_labels = le.inverse_transform(test_predictions.numpy())\n",
        "\n",
        "# 예측 결과가 담긴 DataFrame 생성\n",
        "submission = pd.DataFrame({\n",
        "    'ID': test['ID'],\n",
        "    'SUBCLASS': predicted_labels\n",
        "})\n",
        "\n",
        "# 결과를 CSV 파일로 저장\n",
        "submission.to_csv('/content/drive/MyDrive/dacon_submission.csv', encoding='UTF-8-sig', index=False)"
      ],
      "metadata": {
        "id": "kSPUR28Y2i7C"
      },
      "execution_count": null,
      "outputs": []
    }
  ],
  "metadata": {
    "colab": {
      "provenance": []
    },
    "kernelspec": {
      "display_name": "Python 3",
      "name": "python3"
    },
    "language_info": {
      "name": "python"
    }
  },
  "nbformat": 4,
  "nbformat_minor": 0
}